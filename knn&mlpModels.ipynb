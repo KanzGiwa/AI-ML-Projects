{
 "cells": [
  {
   "cell_type": "markdown",
   "metadata": {
    "id": "n9tA_AuoS0Md"
   },
   "source": [
    "#KNN Model"
   ]
  },
  {
   "cell_type": "code",
   "execution_count": 1,
   "metadata": {
    "executionInfo": {
     "elapsed": 12887,
     "status": "ok",
     "timestamp": 1730657993130,
     "user": {
      "displayName": "Kanz Giwa",
      "userId": "04409308400596223072"
     },
     "user_tz": 300
    },
    "id": "iqnZL1FaBgCw"
   },
   "outputs": [],
   "source": [
    "# basic data routines\n",
    "import pandas as pd\n",
    "from google.colab import files\n",
    "import io\n",
    "#splitting the data\n",
    "from sklearn.model_selection import KFold,train_test_split\n",
    "\n",
    "# models\n",
    "from sklearn.tree import DecisionTreeClassifier\n",
    "from sklearn.neighbors import KNeighborsClassifier\n",
    "\n",
    "\n",
    "# model evaluation routines\n",
    "from sklearn.model_selection import GridSearchCV\n",
    "from sklearn.metrics import accuracy_score\n",
    "from sklearn.metrics import confusion_matrix"
   ]
  },
  {
   "cell_type": "code",
   "execution_count": 22,
   "metadata": {
    "executionInfo": {
     "elapsed": 163,
     "status": "ok",
     "timestamp": 1730658452990,
     "user": {
      "displayName": "Kanz Giwa",
      "userId": "04409308400596223072"
     },
     "user_tz": 300
    },
    "id": "C-7Nx-TfSC7N"
   },
   "outputs": [],
   "source": [
    "import pandas as pd\n",
    "import numpy as np\n",
    "from sklearn.neural_network import MLPClassifier\n",
    "from sklearn.model_selection import train_test_split\n",
    "from sklearn.neural_network import MLPClassifier\n",
    "from sklearn.model_selection import cross_val_score\n",
    "from sklearn.metrics import accuracy_score, confusion_matrix\n",
    "from sklearn.model_selection import GridSearchCV"
   ]
  },
  {
   "cell_type": "code",
   "execution_count": 2,
   "metadata": {
    "colab": {
     "base_uri": "https://localhost:8080/"
    },
    "executionInfo": {
     "elapsed": 5682,
     "status": "ok",
     "timestamp": 1730657998805,
     "user": {
      "displayName": "Kanz Giwa",
      "userId": "04409308400596223072"
     },
     "user_tz": 300
    },
    "id": "3lW7Yla5B0Ty",
    "outputId": "806a6e68-a119-41aa-baf6-9657c2485552"
   },
   "outputs": [
    {
     "name": "stdout",
     "output_type": "stream",
     "text": [
      "Cloning into 'ds-assets'...\n",
      "remote: Enumerating objects: 205, done.\u001b[K\n",
      "remote: Counting objects: 100% (58/58), done.\u001b[K\n",
      "remote: Compressing objects: 100% (8/8), done.\u001b[K\n",
      "remote: Total 205 (delta 54), reused 50 (delta 50), pack-reused 147 (from 1)\u001b[K\n",
      "Receiving objects: 100% (205/205), 12.58 MiB | 4.00 MiB/s, done.\n",
      "Resolving deltas: 100% (80/80), done.\n",
      "Updating files: 100% (86/86), done.\n"
     ]
    }
   ],
   "source": [
    "\n",
    "###### Set Up #####\n",
    "# verify our folder with the data and module assets is installed\n",
    "# if it is installed make sure it is the latest\n",
    "!test -e ds-assets && cd ds-assets && git pull && cd ..\n",
    "# if it is not installed clone it\n",
    "!test ! -e ds-assets && git clone https://github.com/IndraniMandal/ds-assets.git\n",
    "# point to the folder with the assets\n",
    "home = \"ds-assets/assets/\"\n",
    "import sys\n",
    "sys.path.append(home)"
   ]
  },
  {
   "cell_type": "code",
   "execution_count": 3,
   "metadata": {
    "colab": {
     "base_uri": "https://localhost:8080/"
    },
    "collapsed": true,
    "executionInfo": {
     "elapsed": 18,
     "status": "ok",
     "timestamp": 1730657998806,
     "user": {
      "displayName": "Kanz Giwa",
      "userId": "04409308400596223072"
     },
     "user_tz": 300
    },
    "id": "n7USWe8IBlzW",
    "outputId": "a6bf963b-0242-4cde-f813-08af617066be"
   },
   "outputs": [
    {
     "name": "stdout",
     "output_type": "stream",
     "text": [
      " 2fold-xval.png\t\t      mammals-missing.csv\n",
      " 5fold-xval.png\t\t     'messy_covid19_southamerica - covid19_southamerica.csv'\n",
      " abalone.csv\t\t      mlp.py\n",
      " bootstrap.py\t\t      mlp_regression2.py\n",
      " caesarian.csv\t\t      mlp_regression.py\n",
      " candy-data.csv\t\t      model-performance-curves.png\n",
      " cars.csv\t\t      newsgroups.csv\n",
      " classification1.jpg\t      newsgroups-noheaders.csv\n",
      " classification2.jpg\t     'Pancreatic Cancer 2020.csv'\n",
      " classification3.jpg\t      PandasPythonForDataScience.jpg\n",
      " colab-badge.afdesign\t      PandasPythonForDataScience.pdf\n",
      " colab-icon.afdesign\t      pdf-badge.png\n",
      " colab-icon.png\t\t      perceptron-eq.jpg\n",
      " confint.py\t\t      perceptron.jpg\n",
      " confusion1.png\t\t      perceptron.r\n",
      " confusion2.png\t\t      perceptron-search.png\n",
      " crohnd.csv\t\t      perceptron-train.jpg\n",
      " cross-validated-curve.png    pipeline.png\n",
      " data-science.jpg\t      regression1.jpg\n",
      " diamonds.csv\t\t      rs.png\n",
      " divorce.csv\t\t      shuttle.csv\n",
      " divorce-readme.txt\t      shuttle.pdf\n",
      " elbow.py\t\t      sobar-72.csv\n",
      " gapminder_all.csv\t      swans.jpg\n",
      " gapminder_gdp_africa.csv     tennis.csv\n",
      " gapminder_gdp_americas.csv   tennis_numeric.csv\n",
      " gapminder_gdp_asia.csv       training-curves.jpg\n",
      " gapminder_gdp_europe.csv     train-test-curves.png\n",
      " gapminder_gdp_oceania.csv    train-test-data.png\n",
      " github-icon.png\t      tree-model.png\n",
      " google_drive.py\t      tree_regression2.py\n",
      " grid-stability.csv\t      tree_regression.py\n",
      " helloagain.py\t\t      tree_regr_grid.py\n",
      " helloworld.py\t\t      tree-viz.png\n",
      " iris.csv\t\t      treeviz.py\n",
      " kmeans-steps.png\t      wdbc.csv\n",
      " kmeans-steps.pptx\t      weatherHistory.csv\n",
      " knn.png\t\t      worldometer_coronavirus_daily_data.csv\n",
      " knn_regression2.py\t      worldometer_coronavirus_summary_data.csv\n",
      " knn_regression.py\t      yellowstone.jpg\n",
      " knn_regr_grid.py\t      youtube-icon.png\n",
      " mammals.csv\n"
     ]
    }
   ],
   "source": [
    "!ls ds-assets/assets\n"
   ]
  },
  {
   "cell_type": "code",
   "execution_count": 4,
   "metadata": {
    "executionInfo": {
     "elapsed": 10,
     "status": "ok",
     "timestamp": 1730657998806,
     "user": {
      "displayName": "Kanz Giwa",
      "userId": "04409308400596223072"
     },
     "user_tz": 300
    },
    "id": "WV_oze3pBssD"
   },
   "outputs": [],
   "source": [
    "# compute 95% confidence intervals for classification and regression\n",
    "# problems\n",
    "\n",
    "def classification_confint(acc, n):\n",
    "    '''\n",
    "    Compute the 95% confidence interval for a classification problem.\n",
    "      acc -- classification accuracy\n",
    "      n   -- number of observations used to compute the accuracy\n",
    "    Returns a tuple (lb,ub)\n",
    "    '''\n",
    "    import math\n",
    "    interval = 1.96*math.sqrt(acc*(1-acc)/n)\n",
    "    lb = max(0, acc - interval)\n",
    "    ub = min(1.0, acc + interval)\n",
    "    return (lb,ub)"
   ]
  },
  {
   "cell_type": "code",
   "execution_count": 5,
   "metadata": {
    "colab": {
     "base_uri": "https://localhost:8080/",
     "height": 206
    },
    "executionInfo": {
     "elapsed": 405,
     "status": "ok",
     "timestamp": 1730657999202,
     "user": {
      "displayName": "Kanz Giwa",
      "userId": "04409308400596223072"
     },
     "user_tz": 300
    },
    "id": "dYpKPVFeBqL2",
    "outputId": "8b61538c-999c-4e22-9ad5-a10e14e05b36"
   },
   "outputs": [
    {
     "data": {
      "application/vnd.google.colaboratory.intrinsic+json": {
       "summary": "{\n  \"name\": \"df\",\n  \"rows\": 117,\n  \"fields\": [\n    {\n      \"column\": \"ID\",\n      \"properties\": {\n        \"dtype\": \"number\",\n        \"std\": 13652,\n        \"min\": 19908,\n        \"max\": 54937,\n        \"num_unique_values\": 117,\n        \"samples\": [\n          24916,\n          20909,\n          25914\n        ],\n        \"semantic_type\": \"\",\n        \"description\": \"\"\n      }\n    },\n    {\n      \"column\": \"nrAdvE\",\n      \"properties\": {\n        \"dtype\": \"number\",\n        \"std\": 2,\n        \"min\": 0,\n        \"max\": 12,\n        \"num_unique_values\": 11,\n        \"samples\": [\n          5,\n          4,\n          12\n        ],\n        \"semantic_type\": \"\",\n        \"description\": \"\"\n      }\n    },\n    {\n      \"column\": \"BMI\",\n      \"properties\": {\n        \"dtype\": \"number\",\n        \"std\": 4.988837133795716,\n        \"min\": 16.0,\n        \"max\": 44.06,\n        \"num_unique_values\": 102,\n        \"samples\": [\n          16.0,\n          23.95,\n          21.63\n        ],\n        \"semantic_type\": \"\",\n        \"description\": \"\"\n      }\n    },\n    {\n      \"column\": \"height\",\n      \"properties\": {\n        \"dtype\": \"number\",\n        \"std\": 8,\n        \"min\": 124,\n        \"max\": 182,\n        \"num_unique_values\": 31,\n        \"samples\": [\n          171,\n          162,\n          176\n        ],\n        \"semantic_type\": \"\",\n        \"description\": \"\"\n      }\n    },\n    {\n      \"column\": \"country\",\n      \"properties\": {\n        \"dtype\": \"number\",\n        \"std\": 0,\n        \"min\": 0,\n        \"max\": 1,\n        \"num_unique_values\": 2,\n        \"samples\": [\n          1,\n          0\n        ],\n        \"semantic_type\": \"\",\n        \"description\": \"\"\n      }\n    },\n    {\n      \"column\": \"sex\",\n      \"properties\": {\n        \"dtype\": \"number\",\n        \"std\": 0,\n        \"min\": 0,\n        \"max\": 1,\n        \"num_unique_values\": 2,\n        \"samples\": [\n          1,\n          0\n        ],\n        \"semantic_type\": \"\",\n        \"description\": \"\"\n      }\n    },\n    {\n      \"column\": \"age\",\n      \"properties\": {\n        \"dtype\": \"number\",\n        \"std\": 10,\n        \"min\": 19,\n        \"max\": 75,\n        \"num_unique_values\": 43,\n        \"samples\": [\n          43,\n          69\n        ],\n        \"semantic_type\": \"\",\n        \"description\": \"\"\n      }\n    },\n    {\n      \"column\": \"weight\",\n      \"properties\": {\n        \"dtype\": \"number\",\n        \"std\": 14,\n        \"min\": 36,\n        \"max\": 117,\n        \"num_unique_values\": 47,\n        \"samples\": [\n          80,\n          63\n        ],\n        \"semantic_type\": \"\",\n        \"description\": \"\"\n      }\n    },\n    {\n      \"column\": \"treat\",\n      \"properties\": {\n        \"dtype\": \"category\",\n        \"num_unique_values\": 3,\n        \"samples\": [\n          \"placebo\",\n          \"d1\"\n        ],\n        \"semantic_type\": \"\",\n        \"description\": \"\"\n      }\n    }\n  ]\n}",
       "type": "dataframe",
       "variable_name": "df"
      },
      "text/html": [
       "\n",
       "  <div id=\"df-f19fa183-c5cf-4034-98b9-d7f584517083\" class=\"colab-df-container\">\n",
       "    <div>\n",
       "<style scoped>\n",
       "    .dataframe tbody tr th:only-of-type {\n",
       "        vertical-align: middle;\n",
       "    }\n",
       "\n",
       "    .dataframe tbody tr th {\n",
       "        vertical-align: top;\n",
       "    }\n",
       "\n",
       "    .dataframe thead th {\n",
       "        text-align: right;\n",
       "    }\n",
       "</style>\n",
       "<table border=\"1\" class=\"dataframe\">\n",
       "  <thead>\n",
       "    <tr style=\"text-align: right;\">\n",
       "      <th></th>\n",
       "      <th>ID</th>\n",
       "      <th>nrAdvE</th>\n",
       "      <th>BMI</th>\n",
       "      <th>height</th>\n",
       "      <th>country</th>\n",
       "      <th>sex</th>\n",
       "      <th>age</th>\n",
       "      <th>weight</th>\n",
       "      <th>treat</th>\n",
       "    </tr>\n",
       "  </thead>\n",
       "  <tbody>\n",
       "    <tr>\n",
       "      <th>0</th>\n",
       "      <td>19908</td>\n",
       "      <td>4</td>\n",
       "      <td>25.22</td>\n",
       "      <td>163</td>\n",
       "      <td>0</td>\n",
       "      <td>0</td>\n",
       "      <td>47</td>\n",
       "      <td>67</td>\n",
       "      <td>placebo</td>\n",
       "    </tr>\n",
       "    <tr>\n",
       "      <th>1</th>\n",
       "      <td>19909</td>\n",
       "      <td>4</td>\n",
       "      <td>23.80</td>\n",
       "      <td>164</td>\n",
       "      <td>0</td>\n",
       "      <td>0</td>\n",
       "      <td>53</td>\n",
       "      <td>64</td>\n",
       "      <td>d1</td>\n",
       "    </tr>\n",
       "    <tr>\n",
       "      <th>2</th>\n",
       "      <td>19910</td>\n",
       "      <td>1</td>\n",
       "      <td>23.05</td>\n",
       "      <td>164</td>\n",
       "      <td>0</td>\n",
       "      <td>0</td>\n",
       "      <td>68</td>\n",
       "      <td>62</td>\n",
       "      <td>placebo</td>\n",
       "    </tr>\n",
       "    <tr>\n",
       "      <th>3</th>\n",
       "      <td>20908</td>\n",
       "      <td>1</td>\n",
       "      <td>25.71</td>\n",
       "      <td>165</td>\n",
       "      <td>0</td>\n",
       "      <td>0</td>\n",
       "      <td>48</td>\n",
       "      <td>70</td>\n",
       "      <td>d2</td>\n",
       "    </tr>\n",
       "    <tr>\n",
       "      <th>4</th>\n",
       "      <td>20909</td>\n",
       "      <td>2</td>\n",
       "      <td>25.95</td>\n",
       "      <td>170</td>\n",
       "      <td>0</td>\n",
       "      <td>0</td>\n",
       "      <td>67</td>\n",
       "      <td>75</td>\n",
       "      <td>placebo</td>\n",
       "    </tr>\n",
       "  </tbody>\n",
       "</table>\n",
       "</div>\n",
       "    <div class=\"colab-df-buttons\">\n",
       "\n",
       "  <div class=\"colab-df-container\">\n",
       "    <button class=\"colab-df-convert\" onclick=\"convertToInteractive('df-f19fa183-c5cf-4034-98b9-d7f584517083')\"\n",
       "            title=\"Convert this dataframe to an interactive table.\"\n",
       "            style=\"display:none;\">\n",
       "\n",
       "  <svg xmlns=\"http://www.w3.org/2000/svg\" height=\"24px\" viewBox=\"0 -960 960 960\">\n",
       "    <path d=\"M120-120v-720h720v720H120Zm60-500h600v-160H180v160Zm220 220h160v-160H400v160Zm0 220h160v-160H400v160ZM180-400h160v-160H180v160Zm440 0h160v-160H620v160ZM180-180h160v-160H180v160Zm440 0h160v-160H620v160Z\"/>\n",
       "  </svg>\n",
       "    </button>\n",
       "\n",
       "  <style>\n",
       "    .colab-df-container {\n",
       "      display:flex;\n",
       "      gap: 12px;\n",
       "    }\n",
       "\n",
       "    .colab-df-convert {\n",
       "      background-color: #E8F0FE;\n",
       "      border: none;\n",
       "      border-radius: 50%;\n",
       "      cursor: pointer;\n",
       "      display: none;\n",
       "      fill: #1967D2;\n",
       "      height: 32px;\n",
       "      padding: 0 0 0 0;\n",
       "      width: 32px;\n",
       "    }\n",
       "\n",
       "    .colab-df-convert:hover {\n",
       "      background-color: #E2EBFA;\n",
       "      box-shadow: 0px 1px 2px rgba(60, 64, 67, 0.3), 0px 1px 3px 1px rgba(60, 64, 67, 0.15);\n",
       "      fill: #174EA6;\n",
       "    }\n",
       "\n",
       "    .colab-df-buttons div {\n",
       "      margin-bottom: 4px;\n",
       "    }\n",
       "\n",
       "    [theme=dark] .colab-df-convert {\n",
       "      background-color: #3B4455;\n",
       "      fill: #D2E3FC;\n",
       "    }\n",
       "\n",
       "    [theme=dark] .colab-df-convert:hover {\n",
       "      background-color: #434B5C;\n",
       "      box-shadow: 0px 1px 3px 1px rgba(0, 0, 0, 0.15);\n",
       "      filter: drop-shadow(0px 1px 2px rgba(0, 0, 0, 0.3));\n",
       "      fill: #FFFFFF;\n",
       "    }\n",
       "  </style>\n",
       "\n",
       "    <script>\n",
       "      const buttonEl =\n",
       "        document.querySelector('#df-f19fa183-c5cf-4034-98b9-d7f584517083 button.colab-df-convert');\n",
       "      buttonEl.style.display =\n",
       "        google.colab.kernel.accessAllowed ? 'block' : 'none';\n",
       "\n",
       "      async function convertToInteractive(key) {\n",
       "        const element = document.querySelector('#df-f19fa183-c5cf-4034-98b9-d7f584517083');\n",
       "        const dataTable =\n",
       "          await google.colab.kernel.invokeFunction('convertToInteractive',\n",
       "                                                    [key], {});\n",
       "        if (!dataTable) return;\n",
       "\n",
       "        const docLinkHtml = 'Like what you see? Visit the ' +\n",
       "          '<a target=\"_blank\" href=https://colab.research.google.com/notebooks/data_table.ipynb>data table notebook</a>'\n",
       "          + ' to learn more about interactive tables.';\n",
       "        element.innerHTML = '';\n",
       "        dataTable['output_type'] = 'display_data';\n",
       "        await google.colab.output.renderOutput(dataTable, element);\n",
       "        const docLink = document.createElement('div');\n",
       "        docLink.innerHTML = docLinkHtml;\n",
       "        element.appendChild(docLink);\n",
       "      }\n",
       "    </script>\n",
       "  </div>\n",
       "\n",
       "\n",
       "<div id=\"df-a599c104-2987-4256-b428-ed19bcd2d4ec\">\n",
       "  <button class=\"colab-df-quickchart\" onclick=\"quickchart('df-a599c104-2987-4256-b428-ed19bcd2d4ec')\"\n",
       "            title=\"Suggest charts\"\n",
       "            style=\"display:none;\">\n",
       "\n",
       "<svg xmlns=\"http://www.w3.org/2000/svg\" height=\"24px\"viewBox=\"0 0 24 24\"\n",
       "     width=\"24px\">\n",
       "    <g>\n",
       "        <path d=\"M19 3H5c-1.1 0-2 .9-2 2v14c0 1.1.9 2 2 2h14c1.1 0 2-.9 2-2V5c0-1.1-.9-2-2-2zM9 17H7v-7h2v7zm4 0h-2V7h2v10zm4 0h-2v-4h2v4z\"/>\n",
       "    </g>\n",
       "</svg>\n",
       "  </button>\n",
       "\n",
       "<style>\n",
       "  .colab-df-quickchart {\n",
       "      --bg-color: #E8F0FE;\n",
       "      --fill-color: #1967D2;\n",
       "      --hover-bg-color: #E2EBFA;\n",
       "      --hover-fill-color: #174EA6;\n",
       "      --disabled-fill-color: #AAA;\n",
       "      --disabled-bg-color: #DDD;\n",
       "  }\n",
       "\n",
       "  [theme=dark] .colab-df-quickchart {\n",
       "      --bg-color: #3B4455;\n",
       "      --fill-color: #D2E3FC;\n",
       "      --hover-bg-color: #434B5C;\n",
       "      --hover-fill-color: #FFFFFF;\n",
       "      --disabled-bg-color: #3B4455;\n",
       "      --disabled-fill-color: #666;\n",
       "  }\n",
       "\n",
       "  .colab-df-quickchart {\n",
       "    background-color: var(--bg-color);\n",
       "    border: none;\n",
       "    border-radius: 50%;\n",
       "    cursor: pointer;\n",
       "    display: none;\n",
       "    fill: var(--fill-color);\n",
       "    height: 32px;\n",
       "    padding: 0;\n",
       "    width: 32px;\n",
       "  }\n",
       "\n",
       "  .colab-df-quickchart:hover {\n",
       "    background-color: var(--hover-bg-color);\n",
       "    box-shadow: 0 1px 2px rgba(60, 64, 67, 0.3), 0 1px 3px 1px rgba(60, 64, 67, 0.15);\n",
       "    fill: var(--button-hover-fill-color);\n",
       "  }\n",
       "\n",
       "  .colab-df-quickchart-complete:disabled,\n",
       "  .colab-df-quickchart-complete:disabled:hover {\n",
       "    background-color: var(--disabled-bg-color);\n",
       "    fill: var(--disabled-fill-color);\n",
       "    box-shadow: none;\n",
       "  }\n",
       "\n",
       "  .colab-df-spinner {\n",
       "    border: 2px solid var(--fill-color);\n",
       "    border-color: transparent;\n",
       "    border-bottom-color: var(--fill-color);\n",
       "    animation:\n",
       "      spin 1s steps(1) infinite;\n",
       "  }\n",
       "\n",
       "  @keyframes spin {\n",
       "    0% {\n",
       "      border-color: transparent;\n",
       "      border-bottom-color: var(--fill-color);\n",
       "      border-left-color: var(--fill-color);\n",
       "    }\n",
       "    20% {\n",
       "      border-color: transparent;\n",
       "      border-left-color: var(--fill-color);\n",
       "      border-top-color: var(--fill-color);\n",
       "    }\n",
       "    30% {\n",
       "      border-color: transparent;\n",
       "      border-left-color: var(--fill-color);\n",
       "      border-top-color: var(--fill-color);\n",
       "      border-right-color: var(--fill-color);\n",
       "    }\n",
       "    40% {\n",
       "      border-color: transparent;\n",
       "      border-right-color: var(--fill-color);\n",
       "      border-top-color: var(--fill-color);\n",
       "    }\n",
       "    60% {\n",
       "      border-color: transparent;\n",
       "      border-right-color: var(--fill-color);\n",
       "    }\n",
       "    80% {\n",
       "      border-color: transparent;\n",
       "      border-right-color: var(--fill-color);\n",
       "      border-bottom-color: var(--fill-color);\n",
       "    }\n",
       "    90% {\n",
       "      border-color: transparent;\n",
       "      border-bottom-color: var(--fill-color);\n",
       "    }\n",
       "  }\n",
       "</style>\n",
       "\n",
       "  <script>\n",
       "    async function quickchart(key) {\n",
       "      const quickchartButtonEl =\n",
       "        document.querySelector('#' + key + ' button');\n",
       "      quickchartButtonEl.disabled = true;  // To prevent multiple clicks.\n",
       "      quickchartButtonEl.classList.add('colab-df-spinner');\n",
       "      try {\n",
       "        const charts = await google.colab.kernel.invokeFunction(\n",
       "            'suggestCharts', [key], {});\n",
       "      } catch (error) {\n",
       "        console.error('Error during call to suggestCharts:', error);\n",
       "      }\n",
       "      quickchartButtonEl.classList.remove('colab-df-spinner');\n",
       "      quickchartButtonEl.classList.add('colab-df-quickchart-complete');\n",
       "    }\n",
       "    (() => {\n",
       "      let quickchartButtonEl =\n",
       "        document.querySelector('#df-a599c104-2987-4256-b428-ed19bcd2d4ec button');\n",
       "      quickchartButtonEl.style.display =\n",
       "        google.colab.kernel.accessAllowed ? 'block' : 'none';\n",
       "    })();\n",
       "  </script>\n",
       "</div>\n",
       "\n",
       "    </div>\n",
       "  </div>\n"
      ],
      "text/plain": [
       "      ID  nrAdvE    BMI  height  country  sex  age  weight    treat\n",
       "0  19908       4  25.22     163        0    0   47      67  placebo\n",
       "1  19909       4  23.80     164        0    0   53      64       d1\n",
       "2  19910       1  23.05     164        0    0   68      62  placebo\n",
       "3  20908       1  25.71     165        0    0   48      70       d2\n",
       "4  20909       2  25.95     170        0    0   67      75  placebo"
      ]
     },
     "execution_count": 5,
     "metadata": {},
     "output_type": "execute_result"
    }
   ],
   "source": [
    "import pandas\n",
    "url = url = 'https://raw.githubusercontent.com/IndraniMandal/ds-assets/main/assets/crohnd.csv'\n",
    "df = pd.read_csv(url)\n",
    "df.head()"
   ]
  },
  {
   "cell_type": "code",
   "execution_count": 6,
   "metadata": {
    "executionInfo": {
     "elapsed": 10,
     "status": "ok",
     "timestamp": 1730657999202,
     "user": {
      "displayName": "Kanz Giwa",
      "userId": "04409308400596223072"
     },
     "user_tz": 300
    },
    "id": "nbYDqKl2OeSE"
   },
   "outputs": [],
   "source": [
    "features = df.drop(['ID', 'treat'], axis = 1 )\n",
    "target = df['treat']"
   ]
  },
  {
   "cell_type": "code",
   "execution_count": 7,
   "metadata": {
    "executionInfo": {
     "elapsed": 9,
     "status": "ok",
     "timestamp": 1730657999202,
     "user": {
      "displayName": "Kanz Giwa",
      "userId": "04409308400596223072"
     },
     "user_tz": 300
    },
    "id": "UO0gqdfiFDJH"
   },
   "outputs": [],
   "source": [
    "X_train, X_test, y_train, y_test = train_test_split(features, target, train_size=0.8, test_size=0.2, random_state=3)"
   ]
  },
  {
   "cell_type": "code",
   "execution_count": 8,
   "metadata": {
    "colab": {
     "base_uri": "https://localhost:8080/"
    },
    "executionInfo": {
     "elapsed": 9,
     "status": "ok",
     "timestamp": 1730657999203,
     "user": {
      "displayName": "Kanz Giwa",
      "userId": "04409308400596223072"
     },
     "user_tz": 300
    },
    "id": "ZJkfYelUE66D",
    "outputId": "a33edf44-c0a3-47d8-b74f-53b27f3e486c"
   },
   "outputs": [
    {
     "data": {
      "text/plain": [
       "(117, 9)"
      ]
     },
     "execution_count": 8,
     "metadata": {},
     "output_type": "execute_result"
    }
   ],
   "source": [
    "df.shape"
   ]
  },
  {
   "cell_type": "code",
   "execution_count": 9,
   "metadata": {
    "executionInfo": {
     "elapsed": 193,
     "status": "ok",
     "timestamp": 1730657999389,
     "user": {
      "displayName": "Kanz Giwa",
      "userId": "04409308400596223072"
     },
     "user_tz": 300
    },
    "id": "QRt7thm6FEtF"
   },
   "outputs": [],
   "source": [
    "model = KNeighborsClassifier(n_neighbors=3)"
   ]
  },
  {
   "cell_type": "code",
   "execution_count": 10,
   "metadata": {
    "colab": {
     "base_uri": "https://localhost:8080/"
    },
    "executionInfo": {
     "elapsed": 19,
     "status": "ok",
     "timestamp": 1730657999390,
     "user": {
      "displayName": "Kanz Giwa",
      "userId": "04409308400596223072"
     },
     "user_tz": 300
    },
    "id": "0eSwiiIrFGjc",
    "outputId": "ebfa3cf5-2099-4d9b-aa7a-20087bffc415"
   },
   "outputs": [
    {
     "name": "stdout",
     "output_type": "stream",
     "text": [
      "Shape: (117, 9)\n",
      "Value Counts on the 'Treat' Field:\n",
      "treat\n",
      "placebo    39\n",
      "d1         39\n",
      "d2         39\n",
      "Name: count, dtype: int64\n"
     ]
    }
   ],
   "source": [
    "# some basic data stats\n",
    "print(\"Shape: {}\".format(df.shape))\n",
    "print(\"Value Counts on the 'Treat' Field:\")\n",
    "print(df['treat'].value_counts())"
   ]
  },
  {
   "cell_type": "code",
   "execution_count": 11,
   "metadata": {
    "colab": {
     "base_uri": "https://localhost:8080/"
    },
    "executionInfo": {
     "elapsed": 17,
     "status": "ok",
     "timestamp": 1730657999391,
     "user": {
      "displayName": "Kanz Giwa",
      "userId": "04409308400596223072"
     },
     "user_tz": 300
    },
    "id": "DW_JwvjXFIas",
    "outputId": "279aeb92-4562-4b36-9e79-a800092dd45f"
   },
   "outputs": [
    {
     "name": "stdout",
     "output_type": "stream",
     "text": [
      "Accuracy: 0.38 (0.18, 0.57)\n"
     ]
    }
   ],
   "source": [
    "#train the model\n",
    "model.fit(X_train, y_train)\n",
    "predict_y = model.predict(X_test)\n",
    "\n",
    "#test the model accuracy\n",
    "acc = accuracy_score(y_test, predict_y)\n",
    "lb, ub = classification_confint(acc, X_test.shape[0])\n",
    "print(\"Accuracy: {:3.2f} ({:3.2f}, {:3.2f})\".format(acc, lb, ub))"
   ]
  },
  {
   "cell_type": "code",
   "execution_count": 12,
   "metadata": {
    "colab": {
     "base_uri": "https://localhost:8080/"
    },
    "executionInfo": {
     "elapsed": 7589,
     "status": "ok",
     "timestamp": 1730658006969,
     "user": {
      "displayName": "Kanz Giwa",
      "userId": "04409308400596223072"
     },
     "user_tz": 300
    },
    "id": "q2l2-daAFLL_",
    "outputId": "c3e0faab-1e5d-49eb-b9c7-e08b9fcd39a1"
   },
   "outputs": [
    {
     "name": "stdout",
     "output_type": "stream",
     "text": [
      "Grid Search: best parameters: {'n_neighbors': 6}\n",
      "Accuracy: 0.29 (0.11,0.47)\n"
     ]
    },
    {
     "name": "stderr",
     "output_type": "stream",
     "text": [
      "/usr/local/lib/python3.10/dist-packages/numpy/ma/core.py:2820: RuntimeWarning: invalid value encountered in cast\n",
      "  _data = np.array(data, dtype=dtype, copy=copy,\n"
     ]
    }
   ],
   "source": [
    "# KNN\n",
    "model = KNeighborsClassifier()\n",
    "\n",
    "# do the 5-fold cross validation and shuffle the data\n",
    "cv = KFold(n_splits=5,  shuffle = True)\n",
    "\n",
    "# grid search\n",
    "param_grid = {'n_neighbors': list(range(1,26))}\n",
    "grid = GridSearchCV(model, param_grid, cv=cv)\n",
    "\n",
    "# performing grid search\n",
    "grid.fit(X_train, y_train)\n",
    "print(\"Grid Search: best parameters: {}\".format(grid.best_params_))\n",
    "\n",
    "# accuracy of best model with confidence interval\n",
    "pred_test = grid.best_estimator_.predict(X_test)\n",
    "acc = accuracy_score(y_test, pred_test)\n",
    "lb,ub = classification_confint(acc,X_test.shape[0])\n",
    "print(\"Accuracy: {:3.2f} ({:3.2f},{:3.2f})\".format(acc,lb,ub))"
   ]
  },
  {
   "cell_type": "code",
   "execution_count": 13,
   "metadata": {
    "colab": {
     "base_uri": "https://localhost:8080/"
    },
    "executionInfo": {
     "elapsed": 19,
     "status": "ok",
     "timestamp": 1730658006970,
     "user": {
      "displayName": "Kanz Giwa",
      "userId": "04409308400596223072"
     },
     "user_tz": 300
    },
    "id": "43jIPF7DFxTW",
    "outputId": "7fc88c38-ef6f-4d50-887f-8208a8ff8f46"
   },
   "outputs": [
    {
     "name": "stdout",
     "output_type": "stream",
     "text": [
      "Confusion Matrix:\n",
      "         placebo  d1  d2\n",
      "placebo        2   4   2\n",
      "d1             2   3   3\n",
      "d2             4   2   2\n"
     ]
    }
   ],
   "source": [
    "# build the confusion matrix\n",
    "labels = list(target.unique())\n",
    "cm = confusion_matrix(y_true= y_test,y_pred= pred_test, labels=labels)\n",
    "cm_df = pd.DataFrame(cm, index=labels, columns=labels)\n",
    "print(\"Confusion Matrix:\\n{}\".format(cm_df))"
   ]
  },
  {
   "cell_type": "code",
   "execution_count": 14,
   "metadata": {
    "colab": {
     "base_uri": "https://localhost:8080/",
     "height": 210
    },
    "executionInfo": {
     "elapsed": 15,
     "status": "ok",
     "timestamp": 1730658006970,
     "user": {
      "displayName": "Kanz Giwa",
      "userId": "04409308400596223072"
     },
     "user_tz": 300
    },
    "id": "KtWyuwC8F380",
    "outputId": "bb74683b-af70-434c-d525-60c11079a3d8"
   },
   "outputs": [
    {
     "data": {
      "text/html": [
       "<div>\n",
       "<style scoped>\n",
       "    .dataframe tbody tr th:only-of-type {\n",
       "        vertical-align: middle;\n",
       "    }\n",
       "\n",
       "    .dataframe tbody tr th {\n",
       "        vertical-align: top;\n",
       "    }\n",
       "\n",
       "    .dataframe thead th {\n",
       "        text-align: right;\n",
       "    }\n",
       "</style>\n",
       "<table border=\"1\" class=\"dataframe\">\n",
       "  <thead>\n",
       "    <tr style=\"text-align: right;\">\n",
       "      <th></th>\n",
       "      <th>count</th>\n",
       "    </tr>\n",
       "    <tr>\n",
       "      <th>treat</th>\n",
       "      <th></th>\n",
       "    </tr>\n",
       "  </thead>\n",
       "  <tbody>\n",
       "    <tr>\n",
       "      <th>d2</th>\n",
       "      <td>8</td>\n",
       "    </tr>\n",
       "    <tr>\n",
       "      <th>d1</th>\n",
       "      <td>8</td>\n",
       "    </tr>\n",
       "    <tr>\n",
       "      <th>placebo</th>\n",
       "      <td>8</td>\n",
       "    </tr>\n",
       "  </tbody>\n",
       "</table>\n",
       "</div><br><label><b>dtype:</b> int64</label>"
      ],
      "text/plain": [
       "treat\n",
       "d2         8\n",
       "d1         8\n",
       "placebo    8\n",
       "Name: count, dtype: int64"
      ]
     },
     "execution_count": 14,
     "metadata": {},
     "output_type": "execute_result"
    }
   ],
   "source": [
    "y_test.value_counts()"
   ]
  },
  {
   "cell_type": "markdown",
   "metadata": {
    "id": "jhTDSJ567LNc"
   },
   "source": [
    "The best k-NN model has an accuracy of 38% with a confidence interval of (18%, 57%)"
   ]
  },
  {
   "cell_type": "code",
   "execution_count": 16,
   "metadata": {
    "colab": {
     "base_uri": "https://localhost:8080/"
    },
    "executionInfo": {
     "elapsed": 6175,
     "status": "ok",
     "timestamp": 1730658013306,
     "user": {
      "displayName": "Kanz Giwa",
      "userId": "04409308400596223072"
     },
     "user_tz": 300
    },
    "id": "7vE0-XEfGERR",
    "outputId": "be272730-96ba-41d1-c5af-439dd3291bb0"
   },
   "outputs": [
    {
     "name": "stdout",
     "output_type": "stream",
     "text": [
      "Grid Search: best parameters: {'criterion': 'entropy', 'max_depth': 13}\n",
      "Accuracy: 0.25 (0.08,0.42)\n",
      "Confusion Matrix:\n",
      "         placebo  d1  d2\n",
      "placebo        2   4   2\n",
      "d1             5   1   2\n",
      "d2             3   2   3\n"
     ]
    },
    {
     "name": "stderr",
     "output_type": "stream",
     "text": [
      "/usr/local/lib/python3.10/dist-packages/numpy/ma/core.py:2820: RuntimeWarning: invalid value encountered in cast\n",
      "  _data = np.array(data, dtype=dtype, copy=copy,\n"
     ]
    }
   ],
   "source": [
    "# decision trees\n",
    "model = DecisionTreeClassifier()\n",
    "\n",
    "# grid search\n",
    "param_grid = {'max_depth': list(range(1,21)), 'criterion': ['entropy','gini'] }\n",
    "grid = GridSearchCV(model, param_grid, cv=cv)\n",
    "\n",
    "# performing grid search\n",
    "grid.fit(X_train, y_train)\n",
    "print(\"Grid Search: best parameters: {}\".format(grid.best_params_))\n",
    "\n",
    "# accuracy of best model with confidence interval\n",
    "pred_test = grid.best_estimator_.predict(X_test)\n",
    "acc = accuracy_score(y_test, pred_test)\n",
    "lb,ub = classification_confint(acc,X_test.shape[0])\n",
    "print(\"Accuracy: {:3.2f} ({:3.2f},{:3.2f})\".format(acc,lb,ub))\n",
    "\n",
    "# build the confusion matrix\n",
    "labels = list(target.unique())\n",
    "cm = confusion_matrix(y_true= y_test,y_pred= pred_test, labels=labels)\n",
    "cm_df = pd.DataFrame(cm, index=labels, columns=labels)\n",
    "print(\"Confusion Matrix:\\n{}\".format(cm_df))"
   ]
  },
  {
   "cell_type": "code",
   "execution_count": 17,
   "metadata": {
    "colab": {
     "base_uri": "https://localhost:8080/"
    },
    "executionInfo": {
     "elapsed": 23,
     "status": "ok",
     "timestamp": 1730658013306,
     "user": {
      "displayName": "Kanz Giwa",
      "userId": "04409308400596223072"
     },
     "user_tz": 300
    },
    "id": "nS-TbPHcLWO4",
    "outputId": "5ec8d2be-5bff-4021-aecb-d0869c7fca5c"
   },
   "outputs": [
    {
     "data": {
      "text/plain": [
       "array([[1, 2, 5],\n",
       "       [2, 3, 3],\n",
       "       [4, 2, 2]])"
      ]
     },
     "execution_count": 17,
     "metadata": {},
     "output_type": "execute_result"
    }
   ],
   "source": [
    "confusion_matrix(y_true= y_test,y_pred= pred_test)\n"
   ]
  },
  {
   "cell_type": "markdown",
   "metadata": {
    "id": "JBItb6xu8O6U"
   },
   "source": [
    "I had to do mine like this due to my confusion matrix being a 3x3 rather than a 2x2."
   ]
  },
  {
   "cell_type": "code",
   "execution_count": 49,
   "metadata": {
    "colab": {
     "base_uri": "https://localhost:8080/"
    },
    "executionInfo": {
     "elapsed": 183,
     "status": "ok",
     "timestamp": 1730666289168,
     "user": {
      "displayName": "Kanz Giwa",
      "userId": "04409308400596223072"
     },
     "user_tz": 300
    },
    "id": "-vcEiI3NvLIJ",
    "outputId": "fd12586c-6b66-44e2-bcef-4b9084a92a5f"
   },
   "outputs": [
    {
     "name": "stdout",
     "output_type": "stream",
     "text": [
      "Confusion matrix for class 0:\n",
      "[[10  6]\n",
      " [ 7  1]]\n",
      "TN: 10, FP: 6, FN: 7, TP: 1\n",
      " \n",
      "Confusion matrix for class 1:\n",
      "[[12  4]\n",
      " [ 5  3]]\n",
      "TN: 12, FP: 4, FN: 5, TP: 3\n",
      " \n",
      "Confusion matrix for class 2:\n",
      "[[8 8]\n",
      " [6 2]]\n",
      "TN: 8, FP: 8, FN: 6, TP: 2\n",
      " \n"
     ]
    }
   ],
   "source": [
    "from sklearn.metrics import confusion_matrix, multilabel_confusion_matrix\n",
    "\n",
    "cm_multi = multilabel_confusion_matrix(y_true=y_test, y_pred=pred_test)\n",
    "\n",
    "#accessing the confusion matrices for each class(placebo, d1, d2)\n",
    "for i, cm in enumerate(cm_multi):\n",
    "    print(f\"Confusion matrix for class {i}:\")\n",
    "    print(cm)\n",
    "    tn, fp, fn, tp = cm.ravel()\n",
    "    print(f\"TN: {tn}, FP: {fp}, FN: {fn}, TP: {tp}\")\n",
    "    print(\" \")"
   ]
  },
  {
   "cell_type": "code",
   "execution_count": 35,
   "metadata": {
    "executionInfo": {
     "elapsed": 204,
     "status": "ok",
     "timestamp": 1730664971285,
     "user": {
      "displayName": "Kanz Giwa",
      "userId": "04409308400596223072"
     },
     "user_tz": 300
    },
    "id": "JI06wPgGqpbL"
   },
   "outputs": [],
   "source": [
    "from sklearn import tree # Import the tree submodule from sklearn\n",
    "\n",
    "model = tree.DecisionTreeClassifier(criterion='entropy', max_depth=1)\n",
    "\n",
    "model.fit(X_train, y_train)\n",
    "\n",
    "y_train_model = model.predict(X_train)\n",
    "\n",
    "y_test_model = model.predict(X_test)"
   ]
  },
  {
   "cell_type": "markdown",
   "metadata": {
    "id": "tQ9N_GDQSq-1"
   },
   "source": [
    "#MLP Model"
   ]
  },
  {
   "cell_type": "code",
   "execution_count": 23,
   "metadata": {
    "colab": {
     "base_uri": "https://localhost:8080/",
     "height": 206
    },
    "executionInfo": {
     "elapsed": 356,
     "status": "ok",
     "timestamp": 1730658480605,
     "user": {
      "displayName": "Kanz Giwa",
      "userId": "04409308400596223072"
     },
     "user_tz": 300
    },
    "id": "PKKy5Wv2KgzH",
    "outputId": "766103a8-d33c-499e-f7b1-4a4c457621cc"
   },
   "outputs": [
    {
     "data": {
      "application/vnd.google.colaboratory.intrinsic+json": {
       "summary": "{\n  \"name\": \"df_filled\",\n  \"rows\": 117,\n  \"fields\": [\n    {\n      \"column\": \"ID\",\n      \"properties\": {\n        \"dtype\": \"number\",\n        \"std\": 13652,\n        \"min\": 19908,\n        \"max\": 54937,\n        \"num_unique_values\": 117,\n        \"samples\": [\n          24916,\n          20909,\n          25914\n        ],\n        \"semantic_type\": \"\",\n        \"description\": \"\"\n      }\n    },\n    {\n      \"column\": \"nrAdvE\",\n      \"properties\": {\n        \"dtype\": \"number\",\n        \"std\": 2,\n        \"min\": 0,\n        \"max\": 12,\n        \"num_unique_values\": 11,\n        \"samples\": [\n          5,\n          4,\n          12\n        ],\n        \"semantic_type\": \"\",\n        \"description\": \"\"\n      }\n    },\n    {\n      \"column\": \"BMI\",\n      \"properties\": {\n        \"dtype\": \"number\",\n        \"std\": 4.988837133795716,\n        \"min\": 16.0,\n        \"max\": 44.06,\n        \"num_unique_values\": 102,\n        \"samples\": [\n          16.0,\n          23.95,\n          21.63\n        ],\n        \"semantic_type\": \"\",\n        \"description\": \"\"\n      }\n    },\n    {\n      \"column\": \"height\",\n      \"properties\": {\n        \"dtype\": \"number\",\n        \"std\": 8,\n        \"min\": 124,\n        \"max\": 182,\n        \"num_unique_values\": 31,\n        \"samples\": [\n          171,\n          162,\n          176\n        ],\n        \"semantic_type\": \"\",\n        \"description\": \"\"\n      }\n    },\n    {\n      \"column\": \"country\",\n      \"properties\": {\n        \"dtype\": \"number\",\n        \"std\": 0,\n        \"min\": 0,\n        \"max\": 1,\n        \"num_unique_values\": 2,\n        \"samples\": [\n          1,\n          0\n        ],\n        \"semantic_type\": \"\",\n        \"description\": \"\"\n      }\n    },\n    {\n      \"column\": \"sex\",\n      \"properties\": {\n        \"dtype\": \"number\",\n        \"std\": 0,\n        \"min\": 0,\n        \"max\": 1,\n        \"num_unique_values\": 2,\n        \"samples\": [\n          1,\n          0\n        ],\n        \"semantic_type\": \"\",\n        \"description\": \"\"\n      }\n    },\n    {\n      \"column\": \"age\",\n      \"properties\": {\n        \"dtype\": \"number\",\n        \"std\": 10,\n        \"min\": 19,\n        \"max\": 75,\n        \"num_unique_values\": 43,\n        \"samples\": [\n          43,\n          69\n        ],\n        \"semantic_type\": \"\",\n        \"description\": \"\"\n      }\n    },\n    {\n      \"column\": \"weight\",\n      \"properties\": {\n        \"dtype\": \"number\",\n        \"std\": 14,\n        \"min\": 36,\n        \"max\": 117,\n        \"num_unique_values\": 47,\n        \"samples\": [\n          80,\n          63\n        ],\n        \"semantic_type\": \"\",\n        \"description\": \"\"\n      }\n    },\n    {\n      \"column\": \"treat\",\n      \"properties\": {\n        \"dtype\": \"category\",\n        \"num_unique_values\": 3,\n        \"samples\": [\n          \"placebo\",\n          \"d1\"\n        ],\n        \"semantic_type\": \"\",\n        \"description\": \"\"\n      }\n    }\n  ]\n}",
       "type": "dataframe",
       "variable_name": "df_filled"
      },
      "text/html": [
       "\n",
       "  <div id=\"df-c204e4cc-1e5f-478b-9e37-8b6c1395cd3b\" class=\"colab-df-container\">\n",
       "    <div>\n",
       "<style scoped>\n",
       "    .dataframe tbody tr th:only-of-type {\n",
       "        vertical-align: middle;\n",
       "    }\n",
       "\n",
       "    .dataframe tbody tr th {\n",
       "        vertical-align: top;\n",
       "    }\n",
       "\n",
       "    .dataframe thead th {\n",
       "        text-align: right;\n",
       "    }\n",
       "</style>\n",
       "<table border=\"1\" class=\"dataframe\">\n",
       "  <thead>\n",
       "    <tr style=\"text-align: right;\">\n",
       "      <th></th>\n",
       "      <th>ID</th>\n",
       "      <th>nrAdvE</th>\n",
       "      <th>BMI</th>\n",
       "      <th>height</th>\n",
       "      <th>country</th>\n",
       "      <th>sex</th>\n",
       "      <th>age</th>\n",
       "      <th>weight</th>\n",
       "      <th>treat</th>\n",
       "    </tr>\n",
       "  </thead>\n",
       "  <tbody>\n",
       "    <tr>\n",
       "      <th>0</th>\n",
       "      <td>19908</td>\n",
       "      <td>4</td>\n",
       "      <td>25.22</td>\n",
       "      <td>163</td>\n",
       "      <td>0</td>\n",
       "      <td>0</td>\n",
       "      <td>47</td>\n",
       "      <td>67</td>\n",
       "      <td>placebo</td>\n",
       "    </tr>\n",
       "    <tr>\n",
       "      <th>1</th>\n",
       "      <td>19909</td>\n",
       "      <td>4</td>\n",
       "      <td>23.80</td>\n",
       "      <td>164</td>\n",
       "      <td>0</td>\n",
       "      <td>0</td>\n",
       "      <td>53</td>\n",
       "      <td>64</td>\n",
       "      <td>d1</td>\n",
       "    </tr>\n",
       "    <tr>\n",
       "      <th>2</th>\n",
       "      <td>19910</td>\n",
       "      <td>1</td>\n",
       "      <td>23.05</td>\n",
       "      <td>164</td>\n",
       "      <td>0</td>\n",
       "      <td>0</td>\n",
       "      <td>68</td>\n",
       "      <td>62</td>\n",
       "      <td>placebo</td>\n",
       "    </tr>\n",
       "    <tr>\n",
       "      <th>3</th>\n",
       "      <td>20908</td>\n",
       "      <td>1</td>\n",
       "      <td>25.71</td>\n",
       "      <td>165</td>\n",
       "      <td>0</td>\n",
       "      <td>0</td>\n",
       "      <td>48</td>\n",
       "      <td>70</td>\n",
       "      <td>d2</td>\n",
       "    </tr>\n",
       "    <tr>\n",
       "      <th>4</th>\n",
       "      <td>20909</td>\n",
       "      <td>2</td>\n",
       "      <td>25.95</td>\n",
       "      <td>170</td>\n",
       "      <td>0</td>\n",
       "      <td>0</td>\n",
       "      <td>67</td>\n",
       "      <td>75</td>\n",
       "      <td>placebo</td>\n",
       "    </tr>\n",
       "  </tbody>\n",
       "</table>\n",
       "</div>\n",
       "    <div class=\"colab-df-buttons\">\n",
       "\n",
       "  <div class=\"colab-df-container\">\n",
       "    <button class=\"colab-df-convert\" onclick=\"convertToInteractive('df-c204e4cc-1e5f-478b-9e37-8b6c1395cd3b')\"\n",
       "            title=\"Convert this dataframe to an interactive table.\"\n",
       "            style=\"display:none;\">\n",
       "\n",
       "  <svg xmlns=\"http://www.w3.org/2000/svg\" height=\"24px\" viewBox=\"0 -960 960 960\">\n",
       "    <path d=\"M120-120v-720h720v720H120Zm60-500h600v-160H180v160Zm220 220h160v-160H400v160Zm0 220h160v-160H400v160ZM180-400h160v-160H180v160Zm440 0h160v-160H620v160ZM180-180h160v-160H180v160Zm440 0h160v-160H620v160Z\"/>\n",
       "  </svg>\n",
       "    </button>\n",
       "\n",
       "  <style>\n",
       "    .colab-df-container {\n",
       "      display:flex;\n",
       "      gap: 12px;\n",
       "    }\n",
       "\n",
       "    .colab-df-convert {\n",
       "      background-color: #E8F0FE;\n",
       "      border: none;\n",
       "      border-radius: 50%;\n",
       "      cursor: pointer;\n",
       "      display: none;\n",
       "      fill: #1967D2;\n",
       "      height: 32px;\n",
       "      padding: 0 0 0 0;\n",
       "      width: 32px;\n",
       "    }\n",
       "\n",
       "    .colab-df-convert:hover {\n",
       "      background-color: #E2EBFA;\n",
       "      box-shadow: 0px 1px 2px rgba(60, 64, 67, 0.3), 0px 1px 3px 1px rgba(60, 64, 67, 0.15);\n",
       "      fill: #174EA6;\n",
       "    }\n",
       "\n",
       "    .colab-df-buttons div {\n",
       "      margin-bottom: 4px;\n",
       "    }\n",
       "\n",
       "    [theme=dark] .colab-df-convert {\n",
       "      background-color: #3B4455;\n",
       "      fill: #D2E3FC;\n",
       "    }\n",
       "\n",
       "    [theme=dark] .colab-df-convert:hover {\n",
       "      background-color: #434B5C;\n",
       "      box-shadow: 0px 1px 3px 1px rgba(0, 0, 0, 0.15);\n",
       "      filter: drop-shadow(0px 1px 2px rgba(0, 0, 0, 0.3));\n",
       "      fill: #FFFFFF;\n",
       "    }\n",
       "  </style>\n",
       "\n",
       "    <script>\n",
       "      const buttonEl =\n",
       "        document.querySelector('#df-c204e4cc-1e5f-478b-9e37-8b6c1395cd3b button.colab-df-convert');\n",
       "      buttonEl.style.display =\n",
       "        google.colab.kernel.accessAllowed ? 'block' : 'none';\n",
       "\n",
       "      async function convertToInteractive(key) {\n",
       "        const element = document.querySelector('#df-c204e4cc-1e5f-478b-9e37-8b6c1395cd3b');\n",
       "        const dataTable =\n",
       "          await google.colab.kernel.invokeFunction('convertToInteractive',\n",
       "                                                    [key], {});\n",
       "        if (!dataTable) return;\n",
       "\n",
       "        const docLinkHtml = 'Like what you see? Visit the ' +\n",
       "          '<a target=\"_blank\" href=https://colab.research.google.com/notebooks/data_table.ipynb>data table notebook</a>'\n",
       "          + ' to learn more about interactive tables.';\n",
       "        element.innerHTML = '';\n",
       "        dataTable['output_type'] = 'display_data';\n",
       "        await google.colab.output.renderOutput(dataTable, element);\n",
       "        const docLink = document.createElement('div');\n",
       "        docLink.innerHTML = docLinkHtml;\n",
       "        element.appendChild(docLink);\n",
       "      }\n",
       "    </script>\n",
       "  </div>\n",
       "\n",
       "\n",
       "<div id=\"df-9d1f885a-de50-40fa-a4d0-947a5ed1447b\">\n",
       "  <button class=\"colab-df-quickchart\" onclick=\"quickchart('df-9d1f885a-de50-40fa-a4d0-947a5ed1447b')\"\n",
       "            title=\"Suggest charts\"\n",
       "            style=\"display:none;\">\n",
       "\n",
       "<svg xmlns=\"http://www.w3.org/2000/svg\" height=\"24px\"viewBox=\"0 0 24 24\"\n",
       "     width=\"24px\">\n",
       "    <g>\n",
       "        <path d=\"M19 3H5c-1.1 0-2 .9-2 2v14c0 1.1.9 2 2 2h14c1.1 0 2-.9 2-2V5c0-1.1-.9-2-2-2zM9 17H7v-7h2v7zm4 0h-2V7h2v10zm4 0h-2v-4h2v4z\"/>\n",
       "    </g>\n",
       "</svg>\n",
       "  </button>\n",
       "\n",
       "<style>\n",
       "  .colab-df-quickchart {\n",
       "      --bg-color: #E8F0FE;\n",
       "      --fill-color: #1967D2;\n",
       "      --hover-bg-color: #E2EBFA;\n",
       "      --hover-fill-color: #174EA6;\n",
       "      --disabled-fill-color: #AAA;\n",
       "      --disabled-bg-color: #DDD;\n",
       "  }\n",
       "\n",
       "  [theme=dark] .colab-df-quickchart {\n",
       "      --bg-color: #3B4455;\n",
       "      --fill-color: #D2E3FC;\n",
       "      --hover-bg-color: #434B5C;\n",
       "      --hover-fill-color: #FFFFFF;\n",
       "      --disabled-bg-color: #3B4455;\n",
       "      --disabled-fill-color: #666;\n",
       "  }\n",
       "\n",
       "  .colab-df-quickchart {\n",
       "    background-color: var(--bg-color);\n",
       "    border: none;\n",
       "    border-radius: 50%;\n",
       "    cursor: pointer;\n",
       "    display: none;\n",
       "    fill: var(--fill-color);\n",
       "    height: 32px;\n",
       "    padding: 0;\n",
       "    width: 32px;\n",
       "  }\n",
       "\n",
       "  .colab-df-quickchart:hover {\n",
       "    background-color: var(--hover-bg-color);\n",
       "    box-shadow: 0 1px 2px rgba(60, 64, 67, 0.3), 0 1px 3px 1px rgba(60, 64, 67, 0.15);\n",
       "    fill: var(--button-hover-fill-color);\n",
       "  }\n",
       "\n",
       "  .colab-df-quickchart-complete:disabled,\n",
       "  .colab-df-quickchart-complete:disabled:hover {\n",
       "    background-color: var(--disabled-bg-color);\n",
       "    fill: var(--disabled-fill-color);\n",
       "    box-shadow: none;\n",
       "  }\n",
       "\n",
       "  .colab-df-spinner {\n",
       "    border: 2px solid var(--fill-color);\n",
       "    border-color: transparent;\n",
       "    border-bottom-color: var(--fill-color);\n",
       "    animation:\n",
       "      spin 1s steps(1) infinite;\n",
       "  }\n",
       "\n",
       "  @keyframes spin {\n",
       "    0% {\n",
       "      border-color: transparent;\n",
       "      border-bottom-color: var(--fill-color);\n",
       "      border-left-color: var(--fill-color);\n",
       "    }\n",
       "    20% {\n",
       "      border-color: transparent;\n",
       "      border-left-color: var(--fill-color);\n",
       "      border-top-color: var(--fill-color);\n",
       "    }\n",
       "    30% {\n",
       "      border-color: transparent;\n",
       "      border-left-color: var(--fill-color);\n",
       "      border-top-color: var(--fill-color);\n",
       "      border-right-color: var(--fill-color);\n",
       "    }\n",
       "    40% {\n",
       "      border-color: transparent;\n",
       "      border-right-color: var(--fill-color);\n",
       "      border-top-color: var(--fill-color);\n",
       "    }\n",
       "    60% {\n",
       "      border-color: transparent;\n",
       "      border-right-color: var(--fill-color);\n",
       "    }\n",
       "    80% {\n",
       "      border-color: transparent;\n",
       "      border-right-color: var(--fill-color);\n",
       "      border-bottom-color: var(--fill-color);\n",
       "    }\n",
       "    90% {\n",
       "      border-color: transparent;\n",
       "      border-bottom-color: var(--fill-color);\n",
       "    }\n",
       "  }\n",
       "</style>\n",
       "\n",
       "  <script>\n",
       "    async function quickchart(key) {\n",
       "      const quickchartButtonEl =\n",
       "        document.querySelector('#' + key + ' button');\n",
       "      quickchartButtonEl.disabled = true;  // To prevent multiple clicks.\n",
       "      quickchartButtonEl.classList.add('colab-df-spinner');\n",
       "      try {\n",
       "        const charts = await google.colab.kernel.invokeFunction(\n",
       "            'suggestCharts', [key], {});\n",
       "      } catch (error) {\n",
       "        console.error('Error during call to suggestCharts:', error);\n",
       "      }\n",
       "      quickchartButtonEl.classList.remove('colab-df-spinner');\n",
       "      quickchartButtonEl.classList.add('colab-df-quickchart-complete');\n",
       "    }\n",
       "    (() => {\n",
       "      let quickchartButtonEl =\n",
       "        document.querySelector('#df-9d1f885a-de50-40fa-a4d0-947a5ed1447b button');\n",
       "      quickchartButtonEl.style.display =\n",
       "        google.colab.kernel.accessAllowed ? 'block' : 'none';\n",
       "    })();\n",
       "  </script>\n",
       "</div>\n",
       "\n",
       "    </div>\n",
       "  </div>\n"
      ],
      "text/plain": [
       "      ID  nrAdvE    BMI  height  country  sex  age  weight    treat\n",
       "0  19908       4  25.22     163        0    0   47      67  placebo\n",
       "1  19909       4  23.80     164        0    0   53      64       d1\n",
       "2  19910       1  23.05     164        0    0   68      62  placebo\n",
       "3  20908       1  25.71     165        0    0   48      70       d2\n",
       "4  20909       2  25.95     170        0    0   67      75  placebo"
      ]
     },
     "execution_count": 23,
     "metadata": {},
     "output_type": "execute_result"
    }
   ],
   "source": [
    "import pandas\n",
    "url = url = 'https://raw.githubusercontent.com/IndraniMandal/ds-assets/main/assets/crohnd.csv'\n",
    "df_filled = pd.read_csv(url)\n",
    "df_filled.head()"
   ]
  },
  {
   "cell_type": "code",
   "execution_count": 24,
   "metadata": {
    "colab": {
     "base_uri": "https://localhost:8080/"
    },
    "executionInfo": {
     "elapsed": 168,
     "status": "ok",
     "timestamp": 1730658489572,
     "user": {
      "displayName": "Kanz Giwa",
      "userId": "04409308400596223072"
     },
     "user_tz": 300
    },
    "id": "mPecC_cQSK9M",
    "outputId": "05a68e0f-aac9-4553-df3e-e973322afce5"
   },
   "outputs": [
    {
     "name": "stdout",
     "output_type": "stream",
     "text": [
      "Shape: (117, 7)\n"
     ]
    }
   ],
   "source": [
    "X  = df_filled.drop(['ID', 'treat'],axis=1)\n",
    "y = df_filled['treat']\n",
    "\n",
    "print(\"Shape: {}\".format(X.shape))"
   ]
  },
  {
   "cell_type": "markdown",
   "metadata": {
    "id": "JwJqlUDZxTku"
   },
   "source": [
    "Relu Activation Function"
   ]
  },
  {
   "cell_type": "code",
   "execution_count": 25,
   "metadata": {
    "colab": {
     "base_uri": "https://localhost:8080/"
    },
    "executionInfo": {
     "elapsed": 233,
     "status": "ok",
     "timestamp": 1730658505670,
     "user": {
      "displayName": "Kanz Giwa",
      "userId": "04409308400596223072"
     },
     "user_tz": 300
    },
    "id": "r3t7qSNZSNMO",
    "outputId": "393a9671-6ab6-4f6e-a478-85afdba29405"
   },
   "outputs": [
    {
     "name": "stdout",
     "output_type": "stream",
     "text": [
      "Accuracy: 0.33 (0.25, 0.42)\n"
     ]
    }
   ],
   "source": [
    "model = MLPClassifier(hidden_layer_sizes=(14,), activation = 'relu', max_iter=10000, random_state=1)\n",
    "\n",
    "model.fit(X, y)\n",
    "predict_y = model.predict(X)\n",
    "acc = accuracy_score(y, predict_y)\n",
    "lb, ub = classification_confint(acc, X.shape[0])\n",
    "print(\"Accuracy: {:3.2f} ({:3.2f}, {:3.2f})\".format(acc, lb, ub))"
   ]
  },
  {
   "cell_type": "markdown",
   "metadata": {
    "id": "g7U_40BXxNXJ"
   },
   "source": [
    "Logistic Activation function"
   ]
  },
  {
   "cell_type": "code",
   "execution_count": 50,
   "metadata": {
    "colab": {
     "base_uri": "https://localhost:8080/"
    },
    "executionInfo": {
     "elapsed": 2612,
     "status": "ok",
     "timestamp": 1730666581159,
     "user": {
      "displayName": "Kanz Giwa",
      "userId": "04409308400596223072"
     },
     "user_tz": 300
    },
    "id": "7aXFCHbNxC0Z",
    "outputId": "ee16e684-f32a-4772-aadf-c99eea9a8544"
   },
   "outputs": [
    {
     "name": "stdout",
     "output_type": "stream",
     "text": [
      "Accuracy: 0.80 (0.73, 0.88)\n"
     ]
    }
   ],
   "source": [
    "model = MLPClassifier(hidden_layer_sizes=(14,), activation = 'logistic', max_iter=10000, random_state=1)\n",
    "\n",
    "model.fit(X, y)\n",
    "predict_y = model.predict(X)\n",
    "acc = accuracy_score(y, predict_y)\n",
    "lb, ub = classification_confint(acc, X.shape[0])\n",
    "print(\"Accuracy: {:3.2f} ({:3.2f}, {:3.2f})\".format(acc, lb, ub))"
   ]
  },
  {
   "cell_type": "code",
   "execution_count": 38,
   "metadata": {
    "colab": {
     "base_uri": "https://localhost:8080/"
    },
    "executionInfo": {
     "elapsed": 11017,
     "status": "ok",
     "timestamp": 1730665535202,
     "user": {
      "displayName": "Kanz Giwa",
      "userId": "04409308400596223072"
     },
     "user_tz": 300
    },
    "id": "NJJqkP96SRG5",
    "outputId": "110d82f7-97de-4bde-fcb4-ba701d6be2ad"
   },
   "outputs": [
    {
     "name": "stdout",
     "output_type": "stream",
     "text": [
      "Grid Search: best parameters: {'activation': 'logistic', 'hidden_layer_sizes': (20,)}\n",
      "Accuracy: 0.91 (0.86,0.97)\n"
     ]
    }
   ],
   "source": [
    "model = MLPClassifier(max_iter=10000, random_state=1)\n",
    "param_grid = {\n",
    "    'hidden_layer_sizes':\n",
    "      [\n",
    "      (10,), (20,),\n",
    "      ],\n",
    "    'activation' : ['relu', 'logistic']\n",
    "}\n",
    "\n",
    "grid = GridSearchCV(model, param_grid, cv=3)\n",
    "grid.fit(X, y)\n",
    "print(\"Grid Search: best parameters: {}\".format(grid.best_params_))\n",
    "\n",
    "best_model = grid.best_estimator_\n",
    "predict_y = best_model.predict(X)\n",
    "acc = accuracy_score(y, predict_y)\n",
    "lb,ub = classification_confint(acc,X.shape[0])\n",
    "print(\"Accuracy: {:3.2f} ({:3.2f},{:3.2f})\".format(acc,lb,ub))"
   ]
  },
  {
   "cell_type": "code",
   "execution_count": 39,
   "metadata": {
    "colab": {
     "base_uri": "https://localhost:8080/"
    },
    "executionInfo": {
     "elapsed": 9510,
     "status": "ok",
     "timestamp": 1730665544703,
     "user": {
      "displayName": "Kanz Giwa",
      "userId": "04409308400596223072"
     },
     "user_tz": 300
    },
    "id": "q-uHfHbZSTB7",
    "outputId": "b92f0b35-e2b9-4b9f-e3d7-59bc3b4db3d0"
   },
   "outputs": [
    {
     "name": "stdout",
     "output_type": "stream",
     "text": [
      "Grid Search: best parameters: {'activation': 'logistic', 'hidden_layer_sizes': (20, 10)}\n",
      "Accuracy: 0.84 (0.77,0.90)\n"
     ]
    }
   ],
   "source": [
    "model = MLPClassifier(max_iter=10000, random_state=1)\n",
    "param_grid = {\n",
    "    'hidden_layer_sizes':\n",
    "      [\n",
    "      (10,10), (20,10),\n",
    "      ],\n",
    "    'activation' : ['relu', 'logistic']\n",
    "}\n",
    "\n",
    "grid = GridSearchCV(model, param_grid, cv=3)\n",
    "grid.fit(X, y)\n",
    "print(\"Grid Search: best parameters: {}\".format(grid.best_params_))\n",
    "\n",
    "best_model = grid.best_estimator_\n",
    "predict_y = best_model.predict(X)\n",
    "acc = accuracy_score(y, predict_y)\n",
    "lb,ub = classification_confint(acc,X.shape[0])\n",
    "print(\"Accuracy: {:3.2f} ({:3.2f},{:3.2f})\".format(acc,lb,ub))"
   ]
  },
  {
   "cell_type": "markdown",
   "metadata": {
    "id": "Y1JKD2C2Sg5e"
   },
   "source": [
    "Task: Report if the difference between the models is statistically significant (hint: confidence intervals)\n",
    "\n",
    "Answer: The difference in performance between the models are statistically significant. My best MLP model has a higher accuracy of 91% with confidence intervals(86%, 97%) as compared to my best KNN model with an accuracy of 29% and 95% confidence intervals(11%, 47%). The decision tree model had an accuracy of 25% with the 95% confidence intervals of (8%, 42%).\n",
    "\n",
    "In summary, the lack of overlap confirms that the MLP model outperfoms both the KNN and Decision tree model by a huge margin and the difference is statistically significant. Therefor the MLP model would be the best model to select."
   ]
  },
  {
   "cell_type": "markdown",
   "metadata": {
    "id": "D10qzs0HcMkT"
   },
   "source": [
    "Task: Be sure to include a paragraph about my teamwork!\n",
    "\n",
    "Answer: For this task, working independently allowed me to develop a thorough understanding of each step of the machine learning workflow. From data preparation to model selection, tuning, and evaluation, I handled every component efficiently. This required careful attention to detail, especially when performing tasks like hyperparameter tuning and interpreting statistical significance through confidence intervals. I was also able to strengthen my problem-solving skills, as I had to troubleshoot and resolve issues along the way such as dealing with the 3x3 matrix rather than a 2x2 matrix. Although facing some challenges at times, this experience was highly rewarding and reinforced my ability to manage projects end-to-end with precision and insight."
   ]
  },
  {
   "cell_type": "code",
   "execution_count": null,
   "metadata": {
    "id": "90oAi-sscRSf"
   },
   "outputs": [],
   "source": []
  }
 ],
 "metadata": {
  "colab": {
   "authorship_tag": "ABX9TyM2arI6QYTA/h+ehJTxVvyj",
   "provenance": []
  },
  "kernelspec": {
   "display_name": "Python 3",
   "name": "python3"
  },
  "language_info": {
   "name": "python"
  }
 },
 "nbformat": 4,
 "nbformat_minor": 0
}
